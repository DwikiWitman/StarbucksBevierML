{
 "cells": [
  {
   "cell_type": "code",
   "execution_count": 1,
   "metadata": {},
   "outputs": [
    {
     "data": {
      "text/html": [
       "<div>\n",
       "<style>\n",
       "    .dataframe thead tr:only-child th {\n",
       "        text-align: right;\n",
       "    }\n",
       "\n",
       "    .dataframe thead th {\n",
       "        text-align: left;\n",
       "    }\n",
       "\n",
       "    .dataframe tbody tr th {\n",
       "        vertical-align: top;\n",
       "    }\n",
       "</style>\n",
       "<table border=\"1\" class=\"dataframe\">\n",
       "  <thead>\n",
       "    <tr style=\"text-align: right;\">\n",
       "      <th></th>\n",
       "      <th>Beverage</th>\n",
       "      <th>Calories</th>\n",
       "      <th>Cholesterol</th>\n",
       "      <th>Carbohydrates</th>\n",
       "      <th>Sugars</th>\n",
       "      <th>Protein</th>\n",
       "      <th>Caffeine</th>\n",
       "    </tr>\n",
       "  </thead>\n",
       "  <tbody>\n",
       "    <tr>\n",
       "      <th>0</th>\n",
       "      <td>Brewed Coffee</td>\n",
       "      <td>3</td>\n",
       "      <td>0</td>\n",
       "      <td>5</td>\n",
       "      <td>0</td>\n",
       "      <td>0.3</td>\n",
       "      <td>175</td>\n",
       "    </tr>\n",
       "    <tr>\n",
       "      <th>1</th>\n",
       "      <td>Brewed Coffee</td>\n",
       "      <td>4</td>\n",
       "      <td>0</td>\n",
       "      <td>10</td>\n",
       "      <td>0</td>\n",
       "      <td>0.5</td>\n",
       "      <td>260</td>\n",
       "    </tr>\n",
       "    <tr>\n",
       "      <th>2</th>\n",
       "      <td>Brewed Coffee</td>\n",
       "      <td>5</td>\n",
       "      <td>0</td>\n",
       "      <td>10</td>\n",
       "      <td>0</td>\n",
       "      <td>1.0</td>\n",
       "      <td>330</td>\n",
       "    </tr>\n",
       "    <tr>\n",
       "      <th>3</th>\n",
       "      <td>Brewed Coffee</td>\n",
       "      <td>5</td>\n",
       "      <td>0</td>\n",
       "      <td>10</td>\n",
       "      <td>0</td>\n",
       "      <td>1.0</td>\n",
       "      <td>410</td>\n",
       "    </tr>\n",
       "    <tr>\n",
       "      <th>4</th>\n",
       "      <td>Caffè Latte</td>\n",
       "      <td>70</td>\n",
       "      <td>10</td>\n",
       "      <td>75</td>\n",
       "      <td>9</td>\n",
       "      <td>6.0</td>\n",
       "      <td>75</td>\n",
       "    </tr>\n",
       "  </tbody>\n",
       "</table>\n",
       "</div>"
      ],
      "text/plain": [
       "        Beverage  Calories  Cholesterol  Carbohydrates   Sugars   Protein  \\\n",
       "0  Brewed Coffee         3            0              5        0       0.3   \n",
       "1  Brewed Coffee         4            0             10        0       0.5   \n",
       "2  Brewed Coffee         5            0             10        0       1.0   \n",
       "3  Brewed Coffee         5            0             10        0       1.0   \n",
       "4    Caffè Latte        70           10             75        9       6.0   \n",
       "\n",
       "   Caffeine  \n",
       "0       175  \n",
       "1       260  \n",
       "2       330  \n",
       "3       410  \n",
       "4        75  "
      ]
     },
     "execution_count": 1,
     "metadata": {},
     "output_type": "execute_result"
    }
   ],
   "source": [
    "import matplotlib.pyplot as plt\n",
    "import numpy as np\n",
    "import pandas as pd\n",
    "from sklearn.ensemble import RandomForestClassifier\n",
    "from sklearn.model_selection import train_test_split\n",
    "from sklearn.neighbors import KNeighborsClassifier\n",
    "from sklearn.tree import DecisionTreeClassifier\n",
    "from sklearn.linear_model import LogisticRegression\n",
    "import os,sys\n",
    "from scipy import stats\n",
    "from sklearn.svm import SVC\n",
    "\n",
    "dataDrink=pd.read_csv(\"drinks_new.csv\")\n",
    "dataDrink.head()"
   ]
  },
  {
   "cell_type": "markdown",
   "metadata": {},
   "source": [
    "# Data Cleansing & Check"
   ]
  },
  {
   "cell_type": "code",
   "execution_count": 2,
   "metadata": {},
   "outputs": [
    {
     "data": {
      "text/plain": [
       "False"
      ]
     },
     "execution_count": 2,
     "metadata": {},
     "output_type": "execute_result"
    }
   ],
   "source": [
    "#cek ada data null\n",
    "dataDrink.isnull().values.any()"
   ]
  },
  {
   "cell_type": "code",
   "execution_count": 3,
   "metadata": {},
   "outputs": [
    {
     "data": {
      "text/plain": [
       "Beverage         0\n",
       "Calories         0\n",
       "Cholesterol      0\n",
       "Carbohydrates    0\n",
       " Sugars          0\n",
       " Protein         0\n",
       "Caffeine         0\n",
       "dtype: int64"
      ]
     },
     "execution_count": 3,
     "metadata": {},
     "output_type": "execute_result"
    }
   ],
   "source": [
    "#cek jumlah data yg null di tiap atribut\n",
    "dataDrink.isnull().sum()"
   ]
  },
  {
   "cell_type": "code",
   "execution_count": 4,
   "metadata": {},
   "outputs": [
    {
     "data": {
      "text/html": [
       "<div>\n",
       "<style>\n",
       "    .dataframe thead tr:only-child th {\n",
       "        text-align: right;\n",
       "    }\n",
       "\n",
       "    .dataframe thead th {\n",
       "        text-align: left;\n",
       "    }\n",
       "\n",
       "    .dataframe tbody tr th {\n",
       "        vertical-align: top;\n",
       "    }\n",
       "</style>\n",
       "<table border=\"1\" class=\"dataframe\">\n",
       "  <thead>\n",
       "    <tr style=\"text-align: right;\">\n",
       "      <th></th>\n",
       "      <th>Beverage</th>\n",
       "      <th>Calories</th>\n",
       "      <th>Cholesterol</th>\n",
       "      <th>Carbohydrates</th>\n",
       "      <th>Sugars</th>\n",
       "      <th>Protein</th>\n",
       "      <th>Caffeine</th>\n",
       "    </tr>\n",
       "  </thead>\n",
       "  <tbody>\n",
       "    <tr>\n",
       "      <th>0</th>\n",
       "      <td>Brewed Coffee</td>\n",
       "      <td>3</td>\n",
       "      <td>0</td>\n",
       "      <td>5</td>\n",
       "      <td>0</td>\n",
       "      <td>0.3</td>\n",
       "      <td>175</td>\n",
       "    </tr>\n",
       "    <tr>\n",
       "      <th>1</th>\n",
       "      <td>Brewed Coffee</td>\n",
       "      <td>4</td>\n",
       "      <td>0</td>\n",
       "      <td>10</td>\n",
       "      <td>0</td>\n",
       "      <td>0.5</td>\n",
       "      <td>260</td>\n",
       "    </tr>\n",
       "    <tr>\n",
       "      <th>2</th>\n",
       "      <td>Brewed Coffee</td>\n",
       "      <td>5</td>\n",
       "      <td>0</td>\n",
       "      <td>10</td>\n",
       "      <td>0</td>\n",
       "      <td>1.0</td>\n",
       "      <td>330</td>\n",
       "    </tr>\n",
       "    <tr>\n",
       "      <th>3</th>\n",
       "      <td>Brewed Coffee</td>\n",
       "      <td>5</td>\n",
       "      <td>0</td>\n",
       "      <td>10</td>\n",
       "      <td>0</td>\n",
       "      <td>1.0</td>\n",
       "      <td>410</td>\n",
       "    </tr>\n",
       "    <tr>\n",
       "      <th>4</th>\n",
       "      <td>Caffè Latte</td>\n",
       "      <td>70</td>\n",
       "      <td>10</td>\n",
       "      <td>75</td>\n",
       "      <td>9</td>\n",
       "      <td>6.0</td>\n",
       "      <td>75</td>\n",
       "    </tr>\n",
       "  </tbody>\n",
       "</table>\n",
       "</div>"
      ],
      "text/plain": [
       "        Beverage  Calories  Cholesterol  Carbohydrates   Sugars   Protein  \\\n",
       "0  Brewed Coffee         3            0              5        0       0.3   \n",
       "1  Brewed Coffee         4            0             10        0       0.5   \n",
       "2  Brewed Coffee         5            0             10        0       1.0   \n",
       "3  Brewed Coffee         5            0             10        0       1.0   \n",
       "4    Caffè Latte        70           10             75        9       6.0   \n",
       "\n",
       "   Caffeine  \n",
       "0       175  \n",
       "1       260  \n",
       "2       330  \n",
       "3       410  \n",
       "4        75  "
      ]
     },
     "execution_count": 4,
     "metadata": {},
     "output_type": "execute_result"
    }
   ],
   "source": [
    "#isi data null dengan nol (0)\n",
    "dataDrink=dataDrink.fillna(value=0)\n",
    "dataDrink.head()"
   ]
  },
  {
   "cell_type": "markdown",
   "metadata": {},
   "source": [
    "# Menentukan Atribut dan Label"
   ]
  },
  {
   "cell_type": "code",
   "execution_count": 5,
   "metadata": {
    "collapsed": true
   },
   "outputs": [],
   "source": [
    "y = dataDrink.iloc[:, 0]\n",
    "X = dataDrink.drop('Beverage', axis=1)"
   ]
  },
  {
   "cell_type": "markdown",
   "metadata": {},
   "source": [
    "# Data Transform (Normalisasi RobustScaler)"
   ]
  },
  {
   "cell_type": "code",
   "execution_count": 6,
   "metadata": {
    "collapsed": true
   },
   "outputs": [],
   "source": [
    "from sklearn.preprocessing import StandardScaler, MinMaxScaler, RobustScaler\n",
    "\n",
    "scaler = StandardScaler().fit(X)\n",
    "X_scaled = scaler.transform(X)"
   ]
  },
  {
   "cell_type": "markdown",
   "metadata": {},
   "source": [
    "# Split TRAIN dan TEST"
   ]
  },
  {
   "cell_type": "code",
   "execution_count": 7,
   "metadata": {
    "collapsed": true
   },
   "outputs": [],
   "source": [
    "X_train,X_test,y_train,y_test = train_test_split(X_scaled,y,test_size=0.2,random_state=123, stratify=y)"
   ]
  },
  {
   "cell_type": "markdown",
   "metadata": {},
   "source": [
    "# Algoritma SVM Biasa, Tanpa Preproses dan Optimasi (Skor Rendah)"
   ]
  },
  {
   "cell_type": "code",
   "execution_count": 41,
   "metadata": {},
   "outputs": [
    {
     "name": "stdout",
     "output_type": "stream",
     "text": [
      "Accuracy on training set: 0.876\n",
      "Accuracy on test set : 0.592\n",
      "                                                     precision    recall  f1-score   support\n",
      "\n",
      "                          Banana Chocolate Smoothie       1.00      1.00      1.00         1\n",
      "                                      Brewed Coffee       1.00      1.00      1.00         1\n",
      "                                    Caffè Americano       1.00      1.00      1.00         1\n",
      "                                        Caffè Latte       0.33      0.50      0.40         2\n",
      "                Caffè Mocha (Without Whipped Cream)       0.67      1.00      0.80         2\n",
      "                                         Cappuccino       0.00      0.00      0.00         2\n",
      "                                            Caramel       0.00      0.00      0.00         1\n",
      "                    Caramel (Without Whipped Cream)       0.50      1.00      0.67         2\n",
      "        Caramel Apple Spice (Without Whipped Cream)       1.00      1.00      1.00         1\n",
      "                                  Caramel Macchiato       0.00      0.00      0.00         2\n",
      "                                             Coffee       0.00      0.00      0.00         2\n",
      "              Hot Chocolate (Without Whipped Cream)       1.00      1.00      1.00         2\n",
      "            Iced Brewed Coffee (With Classic Syrup)       0.00      0.00      0.00         1\n",
      "     Iced Brewed Coffee (With Milk & Classic Syrup)       1.00      1.00      1.00         2\n",
      "                                          Java Chip       0.00      0.00      0.00         1\n",
      "                  Java Chip (Without Whipped Cream)       0.67      1.00      0.80         2\n",
      "                                              Mocha       0.00      0.00      0.00         1\n",
      "                      Mocha (Without Whipped Cream)       0.00      0.00      0.00         2\n",
      "                       Orange Mango Banana Smoothie       1.00      1.00      1.00         1\n",
      "         Shaken Iced Tazo® Tea (With Classic Syrup)       0.33      1.00      0.50         1\n",
      "Shaken Iced Tazo® Tea Lemonade (With Classic Syrup)       0.00      0.00      0.00         1\n",
      "                         Skinny Latte (Any Flavour)       0.00      0.00      0.00         1\n",
      "       Strawberries & Crème (Without Whipped Cream)       1.00      1.00      1.00         2\n",
      "                         Strawberry Banana Smoothie       1.00      1.00      1.00         1\n",
      "                               Tazo® Chai Tea Latte       1.00      1.00      1.00         2\n",
      "    Tazo® Full-Leaf Red Tea Latte (Vanilla Rooibos)       0.33      0.50      0.40         2\n",
      "                          Tazo® Full-Leaf Tea Latte       0.00      0.00      0.00         2\n",
      "                              Tazo® Green Tea Latte       1.00      1.00      1.00         2\n",
      "                                          Tazo® Tea       1.00      1.00      1.00         1\n",
      "               Vanilla Bean (Without Whipped Cream)       0.50      1.00      0.67         1\n",
      "           Vanilla Latte (Or Other Flavoured Latte)       0.00      0.00      0.00         2\n",
      "      White Chocolate Mocha (Without Whipped Cream)       1.00      1.00      1.00         2\n",
      "\n",
      "                                        avg / total       0.51      0.59      0.54        49\n",
      "\n",
      "->Rate of Cross Validation Score [SVM] : 0.21\n"
     ]
    },
    {
     "name": "stderr",
     "output_type": "stream",
     "text": [
      "C:\\Users\\Yohanes Dwiki Witman\\Anaconda3\\lib\\site-packages\\sklearn\\metrics\\classification.py:1135: UndefinedMetricWarning: Precision and F-score are ill-defined and being set to 0.0 in labels with no predicted samples.\n",
      "  'precision', 'predicted', average, warn_for)\n",
      "C:\\Users\\Yohanes Dwiki Witman\\Anaconda3\\lib\\site-packages\\sklearn\\model_selection\\_split.py:605: Warning: The least populated class in y has only 2 members, which is too few. The minimum number of members in any class cannot be less than n_splits=5.\n",
      "  % (min_groups, self.n_splits)), Warning)\n"
     ]
    }
   ],
   "source": [
    "tempSVM = SVC(C=100.0, gamma=0.1, kernel='rbf').fit(X_train,y_train)\n",
    "print(\"Accuracy on training set: {:.3f}\".format(tempSVM.score(X_train,y_train)))\n",
    "print(\"Accuracy on test set : {:.3f}\".format(tempSVM.score(X_test, y_test)))\n",
    "pred_svm = tempSVM.predict(X_test)\n",
    "\n",
    "#Akurasi,presisi,recall,f1\n",
    "from sklearn.metrics import classification_report\n",
    "print(classification_report(y_test, pred_svm))\n",
    "\n",
    "#Cross Validation \n",
    "from sklearn.model_selection import KFold, cross_val_score\n",
    "from sklearn.model_selection import StratifiedKFold\n",
    "skf = StratifiedKFold(n_splits=5, shuffle=True, random_state=5)\n",
    "svm_eval = cross_val_score(estimator = tempSVM, X = X, y = y, cv = skf)\n",
    "print(\"->Rate of Cross Validation Score [SVM] : {:.2f}\".format(svm_eval.mean()))"
   ]
  },
  {
   "cell_type": "markdown",
   "metadata": {},
   "source": [
    "# Feature-selection / Cek Atribut Terbaik dan Atribut yg 'perlu' dibuang"
   ]
  },
  {
   "cell_type": "code",
   "execution_count": 12,
   "metadata": {},
   "outputs": [
    {
     "name": "stdout",
     "output_type": "stream",
     "text": [
      "Score list: [ 6203.40752373  1573.8653638   6972.12161031  1547.6713801    458.45522108\n",
      "  6779.81069417]\n",
      "Feature list: Index(['Calories', 'Cholesterol', 'Carbohydrates', ' Sugars', ' Protein',\n",
      "       'Caffeine'],\n",
      "      dtype='object')\n",
      "[LibSVM]\n",
      "\n",
      "3 atribut terbaik: Carbohydrates, Caffeine, Calories\n",
      "\n",
      "\n",
      "                                                     precision    recall  f1-score   support\n",
      "\n",
      "                          Banana Chocolate Smoothie       1.00      1.00      1.00         1\n",
      "                                      Brewed Coffee       1.00      1.00      1.00         1\n",
      "                                    Caffè Americano       1.00      1.00      1.00         1\n",
      "                                        Caffè Latte       0.33      0.50      0.40         2\n",
      "                Caffè Mocha (Without Whipped Cream)       0.50      0.50      0.50         2\n",
      "                                         Cappuccino       1.00      0.50      0.67         2\n",
      "                                            Caramel       0.00      0.00      0.00         1\n",
      "                    Caramel (Without Whipped Cream)       0.50      1.00      0.67         2\n",
      "        Caramel Apple Spice (Without Whipped Cream)       1.00      1.00      1.00         1\n",
      "                                  Caramel Macchiato       0.50      0.50      0.50         2\n",
      "                                             Coffee       0.50      0.50      0.50         2\n",
      "              Hot Chocolate (Without Whipped Cream)       1.00      1.00      1.00         2\n",
      "            Iced Brewed Coffee (With Classic Syrup)       1.00      1.00      1.00         1\n",
      "     Iced Brewed Coffee (With Milk & Classic Syrup)       1.00      1.00      1.00         2\n",
      "                                          Java Chip       1.00      1.00      1.00         1\n",
      "                  Java Chip (Without Whipped Cream)       0.00      0.00      0.00         2\n",
      "                                              Mocha       0.00      0.00      0.00         1\n",
      "                      Mocha (Without Whipped Cream)       0.00      0.00      0.00         2\n",
      "                       Orange Mango Banana Smoothie       1.00      1.00      1.00         1\n",
      "         Shaken Iced Tazo® Tea (With Classic Syrup)       1.00      1.00      1.00         1\n",
      "Shaken Iced Tazo® Tea Lemonade (With Classic Syrup)       1.00      1.00      1.00         1\n",
      "                         Skinny Latte (Any Flavour)       0.00      0.00      0.00         1\n",
      "       Strawberries & Crème (Without Whipped Cream)       0.67      1.00      0.80         2\n",
      "                         Strawberry Banana Smoothie       1.00      1.00      1.00         1\n",
      "                               Tazo® Chai Tea Latte       1.00      1.00      1.00         2\n",
      "    Tazo® Full-Leaf Red Tea Latte (Vanilla Rooibos)       0.00      0.00      0.00         2\n",
      "                          Tazo® Full-Leaf Tea Latte       0.00      0.00      0.00         2\n",
      "                              Tazo® Green Tea Latte       1.00      1.00      1.00         2\n",
      "                                          Tazo® Tea       1.00      1.00      1.00         1\n",
      "               Vanilla Bean (Without Whipped Cream)       0.00      0.00      0.00         1\n",
      "           Vanilla Latte (Or Other Flavoured Latte)       0.00      0.00      0.00         2\n",
      "      White Chocolate Mocha (Without Whipped Cream)       0.50      1.00      0.67         2\n",
      "\n",
      "                                        avg / total       0.57      0.61      0.58        49\n",
      "\n"
     ]
    },
    {
     "name": "stderr",
     "output_type": "stream",
     "text": [
      "C:\\Users\\Yohanes Dwiki Witman\\Anaconda3\\lib\\site-packages\\sklearn\\metrics\\classification.py:1135: UndefinedMetricWarning: Precision and F-score are ill-defined and being set to 0.0 in labels with no predicted samples.\n",
      "  'precision', 'predicted', average, warn_for)\n"
     ]
    }
   ],
   "source": [
    "from sklearn.feature_selection import SelectKBest, chi2, f_classif\n",
    "from sklearn.metrics import accuracy_score\n",
    "\n",
    "X_train,X_test,y_train,y_test = train_test_split(X,y,test_size=0.2,random_state=123, stratify=y)\n",
    "\n",
    "# find best scored 3 features\n",
    "select_feature = SelectKBest(chi2, k='all').fit(X_train, y_train)\n",
    "print('Score list:', select_feature.scores_)\n",
    "print('Feature list:', X_train.columns)\n",
    "\n",
    "X_train = select_feature.transform(X_train)\n",
    "X_test = select_feature.transform(X_test)\n",
    "tempSVM = SVC(C=700, gamma= 0.001, kernel= 'linear', verbose=True)   #pakai best parameter dari tuning ya... !!\n",
    "tempSVM = tempSVM.fit(X_train,y_train)\n",
    "pred_svm = tempSVM.predict(X_test)\n",
    "print(\"\\n\\n3 atribut terbaik: Carbohydrates, Caffeine, Calories\\n\\n\")\n",
    "\n",
    "\n",
    "#Akurasi,presisi,recall,f1\n",
    "from sklearn.metrics import classification_report\n",
    "print(classification_report(y_test, pred_svm))\n",
    "#Cross Validation \n",
    "#from sklearn.model_selection import KFold, cross_val_score\n",
    "#from sklearn.model_selection import StratifiedKFold, ShuffleSplit\n",
    "#skf = StratifiedKFold(n_splits=5, shuffle=True, random_state=5)\n",
    "#ss = ShuffleSplit(n_splits=3, test_size=0.25, random_state=0)\n",
    "#svm_eval = cross_val_score(estimator = tempSVM, X = X, y = y) #, cv = skf)\n",
    "#print(\"->Rate of Cross Validation Score [SVM] : {:.2f}\".format(svm_eval.mean()))"
   ]
  },
  {
   "cell_type": "markdown",
   "metadata": {},
   "source": [
    "# Tuning / Cari Best-parameter SVM - [ WARNING!! NYARINYA LAMA !! ]"
   ]
  },
  {
   "cell_type": "code",
   "execution_count": 16,
   "metadata": {},
   "outputs": [
    {
     "name": "stdout",
     "output_type": "stream",
     "text": [
      "Fitting 3 folds for each of 8 candidates, totalling 24 fits\n"
     ]
    },
    {
     "name": "stderr",
     "output_type": "stream",
     "text": [
      "C:\\Users\\Yohanes Dwiki Witman\\Anaconda3\\lib\\site-packages\\sklearn\\model_selection\\_split.py:605: Warning: The least populated class in y has only 2 members, which is too few. The minimum number of members in any class cannot be less than n_splits=3.\n",
      "  % (min_groups, self.n_splits)), Warning)\n"
     ]
    },
    {
     "name": "stdout",
     "output_type": "stream",
     "text": [
      "Best SVM params: {'C': 700, 'gamma': 0.001, 'kernel': 'linear'}\n",
      "Best SVM cross validation score: 0.648760330579\n"
     ]
    },
    {
     "name": "stderr",
     "output_type": "stream",
     "text": [
      "[Parallel(n_jobs=-1)]: Done  24 out of  24 | elapsed:    9.2s finished\n"
     ]
    }
   ],
   "source": [
    "from sklearn.model_selection import GridSearchCV\n",
    "from sklearn.model_selection import StratifiedKFold\n",
    "from sklearn.preprocessing import StandardScaler, MinMaxScaler, RobustScaler\n",
    "\n",
    "scaler = RobustScaler().fit(X)\n",
    "X_scaled = scaler.transform(X)\n",
    "X_train,X_test,y_train,y_test = train_test_split(X_scaled,y,test_size=0.2,random_state=123, stratify=y)\n",
    "\n",
    "#skf = StratifiedKFold(n_splits=5, shuffle=True, random_state=5)\n",
    "#C_range = 10. ** np.arange(-3, 8)\n",
    "#gamma_range = 10. ** np.arange(-5, 4)\n",
    "\n",
    "svm_params = {    'C': [1, 10, 100, 700],\n",
    "                  'gamma': [0.001], \n",
    "                  'kernel':('linear', 'rbf')\n",
    "             } \n",
    "\n",
    "svm_grid = GridSearchCV(SVC(), svm_params, verbose=True, n_jobs=-1) #, cv=skf)\n",
    "#svm_rbf_grid = GridSearchCV(SVC(), svm_params, verbose=True, n_jobs=-1)\n",
    "svm_grid.fit(X_scaled, y)\n",
    "\n",
    "print('Best SVM params:', svm_grid.best_params_)\n",
    "print('Best SVM cross validation score:', svm_grid.best_score_)\n",
    "\n",
    "#HASIL SEARCH NYA GINI KALAU LAMA PROSESNYA...\n",
    "#Robust--> Best SVM params: {'C': 700, 'gamma': 0.001, 'kernel': 'linear'}  Best SVM cross validation score: 0.665289256198\n",
    "#StandardScaler--> Best SVM params: {'C': 243, 'gamma': 0.001, 'kernel': 'linear'} Best SVM cross validation score: 0.648760330579\n",
    "#MinMaxScaler--> Best SVM params: {'C': 1500, 'gamma': 0.001, 'kernel': 'linear'} Best SVM cross validation score: 0.640495867769"
   ]
  },
  {
   "cell_type": "markdown",
   "metadata": {},
   "source": [
    "# Masukkan Best-parameter dan Lihat Hasil Tuning-nya"
   ]
  },
  {
   "cell_type": "code",
   "execution_count": 17,
   "metadata": {},
   "outputs": [
    {
     "name": "stdout",
     "output_type": "stream",
     "text": [
      "[LibSVM]Accuracy on training set:  0.943005181347\n",
      "Accuracy on test set :  0.612244897959\n"
     ]
    }
   ],
   "source": [
    "X_train,X_test,y_train,y_test = train_test_split(X,y,test_size=0.2,random_state=123, stratify=y)\n",
    "\n",
    "tempSVM = SVC(C=700, gamma=0.001, kernel='linear', verbose=True).fit(X_train,y_train)\n",
    "print(\"Accuracy on training set: \", tempSVM.score(X_train,y_train))\n",
    "print(\"Accuracy on test set : \", tempSVM.score(X_test, y_test))\n",
    "pred_svm = tempSVM.predict(X_test)"
   ]
  },
  {
   "cell_type": "markdown",
   "metadata": {},
   "source": [
    "# Akurasi, Presisi, Recall, F1, Support, Cross Validation (Hasil Tuning)"
   ]
  },
  {
   "cell_type": "code",
   "execution_count": 298,
   "metadata": {},
   "outputs": [
    {
     "name": "stderr",
     "output_type": "stream",
     "text": [
      "C:\\Users\\Yohanes Dwiki Witman\\Anaconda3\\lib\\site-packages\\sklearn\\metrics\\classification.py:1135: UndefinedMetricWarning: Precision and F-score are ill-defined and being set to 0.0 in labels with no predicted samples.\n",
      "  'precision', 'predicted', average, warn_for)\n",
      "C:\\Users\\Yohanes Dwiki Witman\\Anaconda3\\lib\\site-packages\\sklearn\\model_selection\\_split.py:605: Warning: The least populated class in y has only 2 members, which is too few. The minimum number of members in any class cannot be less than n_splits=5.\n",
      "  % (min_groups, self.n_splits)), Warning)\n"
     ]
    },
    {
     "name": "stdout",
     "output_type": "stream",
     "text": [
      "                                                     precision    recall  f1-score   support\n",
      "\n",
      "                          Banana Chocolate Smoothie       1.00      1.00      1.00         1\n",
      "                                      Brewed Coffee       1.00      1.00      1.00         1\n",
      "                                    Caffè Americano       1.00      1.00      1.00         1\n",
      "                                        Caffè Latte       1.00      0.50      0.67         2\n",
      "                Caffè Mocha (Without Whipped Cream)       0.50      0.50      0.50         2\n",
      "                                         Cappuccino       0.67      1.00      0.80         2\n",
      "                                            Caramel       1.00      1.00      1.00         1\n",
      "                    Caramel (Without Whipped Cream)       0.67      1.00      0.80         2\n",
      "        Caramel Apple Spice (Without Whipped Cream)       1.00      1.00      1.00         1\n",
      "                                  Caramel Macchiato       0.50      0.50      0.50         2\n",
      "                                             Coffee       0.50      0.50      0.50         2\n",
      "              Hot Chocolate (Without Whipped Cream)       1.00      1.00      1.00         2\n",
      "            Iced Brewed Coffee (With Classic Syrup)       1.00      1.00      1.00         1\n",
      "     Iced Brewed Coffee (With Milk & Classic Syrup)       1.00      1.00      1.00         2\n",
      "                                          Java Chip       1.00      1.00      1.00         1\n",
      "                  Java Chip (Without Whipped Cream)       0.00      0.00      0.00         2\n",
      "                                              Mocha       0.00      0.00      0.00         1\n",
      "                      Mocha (Without Whipped Cream)       0.67      1.00      0.80         2\n",
      "                       Orange Mango Banana Smoothie       1.00      1.00      1.00         1\n",
      "         Shaken Iced Tazo® Tea (With Classic Syrup)       0.50      1.00      0.67         1\n",
      "Shaken Iced Tazo® Tea Lemonade (With Classic Syrup)       0.00      0.00      0.00         1\n",
      "                         Skinny Latte (Any Flavour)       0.00      0.00      0.00         1\n",
      "       Strawberries & Crème (Without Whipped Cream)       0.67      1.00      0.80         2\n",
      "                         Strawberry Banana Smoothie       1.00      1.00      1.00         1\n",
      "                               Tazo® Chai Tea Latte       1.00      1.00      1.00         2\n",
      "    Tazo® Full-Leaf Red Tea Latte (Vanilla Rooibos)       0.33      0.50      0.40         2\n",
      "                          Tazo® Full-Leaf Tea Latte       0.00      0.00      0.00         2\n",
      "                              Tazo® Green Tea Latte       1.00      1.00      1.00         2\n",
      "                                          Tazo® Tea       1.00      1.00      1.00         1\n",
      "               Vanilla Bean (Without Whipped Cream)       0.00      0.00      0.00         1\n",
      "           Vanilla Latte (Or Other Flavoured Latte)       0.00      0.00      0.00         2\n",
      "      White Chocolate Mocha (Without Whipped Cream)       0.50      0.50      0.50         2\n",
      "\n",
      "                                        avg / total       0.62      0.67      0.64        49\n",
      "\n",
      "Accuracy Score : 0.673469387755\n",
      "[LibSVM][LibSVM][LibSVM][LibSVM][LibSVM]->Rate of Cross Validation Score [SVM] :  0.649137018061\n"
     ]
    }
   ],
   "source": [
    "#Akurasi,presisi,recall,f1\n",
    "from sklearn.metrics import classification_report\n",
    "pred_svm = tempSVM.predict(X_test)\n",
    "print(classification_report(y_test, pred_svm))\n",
    "\n",
    "print(\"Accuracy Score : \" + str(tempSVM.score(X_test, y_test)))\n",
    "#Cross Validation \n",
    "from sklearn.model_selection import KFold, cross_val_score\n",
    "from sklearn.model_selection import StratifiedKFold, ShuffleSplit\n",
    "skf = StratifiedKFold(n_splits=5, shuffle=True, random_state=5)\n",
    "#ss = ShuffleSplit(n_splits=3, test_size=0.25, random_state=0)\n",
    "svm_eval = cross_val_score(estimator = tempSVM, X = X, y = y, cv = skf)\n",
    "print(\"->Rate of Cross Validation Score [SVM] : \", svm_eval.mean())"
   ]
  },
  {
   "cell_type": "markdown",
   "metadata": {},
   "source": [
    "# Data Extraction (PCA) --> Akurasi-nya RENDAH jadinya TDK dipakai"
   ]
  },
  {
   "cell_type": "code",
   "execution_count": 34,
   "metadata": {},
   "outputs": [
    {
     "name": "stdout",
     "output_type": "stream",
     "text": [
      "We need 2 components to explain 90% of variance\n",
      "[LibSVM]Accuracy on training set:  0.476683937824\n",
      "Accuracy on test set :  0.265306122449\n",
      "\n",
      "Accuracy with PCA-SVM is NOT good!!! \n"
     ]
    }
   ],
   "source": [
    "from sklearn.decomposition import PCA\n",
    "from sklearn.preprocessing import StandardScaler\n",
    "#scaler = StandardScaler().fit(X)\n",
    "#X_scaled = scaler.transform(X)\n",
    "\n",
    "X_train,X_test,y_train,y_test = train_test_split(X,y,test_size=0.2,random_state=123, stratify=y)\n",
    "\n",
    "temp_pca = PCA(0.9).fit(X)\n",
    "print('We need %d components to explain 90%% of variance' % temp_pca.n_components_)\n",
    "\n",
    "pca = PCA(n_components=2, whiten=True)\n",
    "pca.fit(X_train)\n",
    "X_train = pca.transform(X_train)\n",
    "\n",
    "pca = PCA(n_components=2, whiten=True)\n",
    "pca.fit(X_test)\n",
    "X_test = pca.transform(X_test)\n",
    "\n",
    "tempSVM = SVC(C=700, gamma=0.001, kernel='linear', verbose=True).fit(X_train,y_train)\n",
    "print(\"Accuracy on training set: \", tempSVM.score(X_train,y_train))\n",
    "print(\"Accuracy on test set : \", tempSVM.score(X_test, y_test))\n",
    "print(\"\\nAccuracy with PCA-SVM is NOT good!!! \")"
   ]
  },
  {
   "cell_type": "code",
   "execution_count": 19,
   "metadata": {
    "collapsed": true
   },
   "outputs": [],
   "source": [
    "################################################################################################################################"
   ]
  },
  {
   "cell_type": "code",
   "execution_count": 20,
   "metadata": {
    "collapsed": true
   },
   "outputs": [],
   "source": [
    "################################################################################################################################"
   ]
  },
  {
   "cell_type": "code",
   "execution_count": 21,
   "metadata": {
    "collapsed": true
   },
   "outputs": [],
   "source": [
    "################################################################################################################################"
   ]
  },
  {
   "cell_type": "markdown",
   "metadata": {},
   "source": [
    "# HASIL AKHIR EXPERIMEN TADI \\\\  PIPE LEBIH SIMPLE DARIPADA MANUAL!"
   ]
  },
  {
   "cell_type": "markdown",
   "metadata": {},
   "source": [
    "# BUAT PIPELINE (BEST PARAM ROBUSTSCALER C=700, gamma=0.001, kernel='linear', verbose=True)"
   ]
  },
  {
   "cell_type": "code",
   "execution_count": 8,
   "metadata": {},
   "outputs": [
    {
     "name": "stdout",
     "output_type": "stream",
     "text": [
      "[LibSVM]                                                     precision    recall  f1-score   support\n",
      "\n",
      "                          Banana Chocolate Smoothie       1.00      1.00      1.00         1\n",
      "                                      Brewed Coffee       1.00      1.00      1.00         1\n",
      "                                    Caffè Americano       1.00      1.00      1.00         1\n",
      "                                        Caffè Latte       0.33      0.50      0.40         2\n",
      "                Caffè Mocha (Without Whipped Cream)       0.67      1.00      0.80         2\n",
      "                                         Cappuccino       1.00      0.50      0.67         2\n",
      "                                            Caramel       0.00      0.00      0.00         1\n",
      "                    Caramel (Without Whipped Cream)       0.67      1.00      0.80         2\n",
      "        Caramel Apple Spice (Without Whipped Cream)       1.00      1.00      1.00         1\n",
      "                                  Caramel Macchiato       1.00      0.50      0.67         2\n",
      "                                             Coffee       0.25      0.50      0.33         2\n",
      "              Hot Chocolate (Without Whipped Cream)       1.00      1.00      1.00         2\n",
      "            Iced Brewed Coffee (With Classic Syrup)       1.00      1.00      1.00         1\n",
      "     Iced Brewed Coffee (With Milk & Classic Syrup)       1.00      1.00      1.00         2\n",
      "                                          Java Chip       1.00      1.00      1.00         1\n",
      "                  Java Chip (Without Whipped Cream)       1.00      1.00      1.00         2\n",
      "                                              Mocha       0.00      0.00      0.00         1\n",
      "                      Mocha (Without Whipped Cream)       1.00      0.50      0.67         2\n",
      "                       Orange Mango Banana Smoothie       1.00      1.00      1.00         1\n",
      "         Shaken Iced Tazo® Tea (With Classic Syrup)       1.00      1.00      1.00         1\n",
      "Shaken Iced Tazo® Tea Lemonade (With Classic Syrup)       1.00      1.00      1.00         1\n",
      "                         Skinny Latte (Any Flavour)       0.00      0.00      0.00         1\n",
      "       Strawberries & Crème (Without Whipped Cream)       1.00      1.00      1.00         2\n",
      "                         Strawberry Banana Smoothie       1.00      1.00      1.00         1\n",
      "                               Tazo® Chai Tea Latte       1.00      1.00      1.00         2\n",
      "    Tazo® Full-Leaf Red Tea Latte (Vanilla Rooibos)       0.00      0.00      0.00         2\n",
      "                          Tazo® Full-Leaf Tea Latte       0.00      0.00      0.00         2\n",
      "                              Tazo® Green Tea Latte       1.00      1.00      1.00         2\n",
      "                                          Tazo® Tea       1.00      1.00      1.00         1\n",
      "               Vanilla Bean (Without Whipped Cream)       0.00      0.00      0.00         1\n",
      "           Vanilla Latte (Or Other Flavoured Latte)       0.50      0.50      0.50         2\n",
      "      White Chocolate Mocha (Without Whipped Cream)       1.00      1.00      1.00         2\n",
      "\n",
      "                                        avg / total       0.73      0.71      0.71        49\n",
      "\n",
      "[LibSVM][LibSVM][LibSVM]"
     ]
    },
    {
     "name": "stderr",
     "output_type": "stream",
     "text": [
      "C:\\Users\\Yohanes Dwiki Witman\\Anaconda3\\lib\\site-packages\\sklearn\\metrics\\classification.py:1135: UndefinedMetricWarning: Precision and F-score are ill-defined and being set to 0.0 in labels with no predicted samples.\n",
      "  'precision', 'predicted', average, warn_for)\n",
      "C:\\Users\\Yohanes Dwiki Witman\\Anaconda3\\lib\\site-packages\\sklearn\\model_selection\\_split.py:605: Warning: The least populated class in y has only 2 members, which is too few. The minimum number of members in any class cannot be less than n_splits=5.\n",
      "  % (min_groups, self.n_splits)), Warning)\n"
     ]
    },
    {
     "name": "stdout",
     "output_type": "stream",
     "text": [
      "[LibSVM][LibSVM]Accuracy Score : 0.714285714286\n",
      "->Rate of Cross Validation Score [SVM] :  0.806505538541\n"
     ]
    }
   ],
   "source": [
    "from sklearn.pipeline import make_pipeline\n",
    "from sklearn.preprocessing import StandardScaler, RobustScaler, MinMaxScaler\n",
    "from sklearn.ensemble import GradientBoostingClassifier\n",
    "\n",
    "X_train,X_test,y_train,y_test = train_test_split(X,y,test_size=0.2,random_state=123, stratify=y)\n",
    "newPipe = make_pipeline(StandardScaler(), SVC(C=243, gamma=0.001, kernel='linear', verbose=True))\n",
    "newPipe.fit(X_train,y_train)\n",
    "pred_svm = newPipe.predict(X_test)\n",
    "\n",
    "#Akurasi,presisi,recall,f1\n",
    "from sklearn.metrics import classification_report\n",
    "print(classification_report(y_test, pred_svm))\n",
    "#Cross Validation \n",
    "from sklearn.model_selection import KFold, cross_val_score\n",
    "from sklearn.model_selection import StratifiedKFold, ShuffleSplit\n",
    "skf = StratifiedKFold(n_splits=5, shuffle=True, random_state=5)\n",
    "#ss = ShuffleSplit(n_splits=3, test_size=0.25, random_state=0)\n",
    "svm_eval = cross_val_score(estimator = newPipe, X = X, y = y, cv = skf)\n",
    "print(\"Accuracy Score : \" + str(newPipe.score(X_test, y_test)))\n",
    "print(\"->Rate of Cross Validation Score [SVM] : \", svm_eval.mean())"
   ]
  },
  {
   "cell_type": "markdown",
   "metadata": {},
   "source": [
    "# DUMP MODEL"
   ]
  },
  {
   "cell_type": "code",
   "execution_count": 9,
   "metadata": {},
   "outputs": [
    {
     "data": {
      "text/plain": [
       "['drinks_pycham.pkl']"
      ]
     },
     "execution_count": 9,
     "metadata": {},
     "output_type": "execute_result"
    }
   ],
   "source": [
    "tempData = [newPipe,dataDrink]\n",
    "\n",
    "from sklearn.externals import joblib\n",
    "joblib.dump(tempData,'drinks_pycham.pkl')"
   ]
  },
  {
   "cell_type": "markdown",
   "metadata": {},
   "source": [
    "# LIHAT DUMP"
   ]
  },
  {
   "cell_type": "code",
   "execution_count": 11,
   "metadata": {},
   "outputs": [
    {
     "name": "stdout",
     "output_type": "stream",
     "text": [
      "[Pipeline(memory=None,\n",
      "     steps=[('standardscaler', StandardScaler(copy=True, with_mean=True, with_std=True)), ('svc', SVC(C=243, cache_size=200, class_weight=None, coef0=0.0,\n",
      "  decision_function_shape='ovr', degree=3, gamma=0.001, kernel='linear',\n",
      "  max_iter=-1, probability=False, random_state=None, shrinking=True,\n",
      "  tol=0.001, verbose=True))]),                                          Beverage  Calories  Cholesterol  \\\n",
      "0                                   Brewed Coffee         3            0   \n",
      "1                                   Brewed Coffee         4            0   \n",
      "2                                   Brewed Coffee         5            0   \n",
      "3                                   Brewed Coffee         5            0   \n",
      "4                                     Caffè Latte        70           10   \n",
      "5                                     Caffè Latte       100           10   \n",
      "6                                     Caffè Latte        70            6   \n",
      "7                                     Caffè Latte       100           15   \n",
      "8                                     Caffè Latte       150           15   \n",
      "9                                     Caffè Latte       110           10   \n",
      "10                                    Caffè Latte       130           19   \n",
      "11                                    Caffè Latte       190           19   \n",
      "12                                    Caffè Latte       150           13   \n",
      "13                                    Caffè Latte       170           25   \n",
      "14                                    Caffè Latte       240           24   \n",
      "15                                    Caffè Latte       190           16   \n",
      "16            Caffè Mocha (Without Whipped Cream)       110           21   \n",
      "17            Caffè Mocha (Without Whipped Cream)       130           21   \n",
      "18            Caffè Mocha (Without Whipped Cream)       110           19   \n",
      "19            Caffè Mocha (Without Whipped Cream)       170           32   \n",
      "20            Caffè Mocha (Without Whipped Cream)       200           32   \n",
      "21            Caffè Mocha (Without Whipped Cream)       180           28   \n",
      "22            Caffè Mocha (Without Whipped Cream)       220           43   \n",
      "23            Caffè Mocha (Without Whipped Cream)       260           42   \n",
      "24            Caffè Mocha (Without Whipped Cream)       230           37   \n",
      "25            Caffè Mocha (Without Whipped Cream)       280           54   \n",
      "26            Caffè Mocha (Without Whipped Cream)       340           53   \n",
      "27            Caffè Mocha (Without Whipped Cream)       290           47   \n",
      "28       Vanilla Latte (Or Other Flavoured Latte)       100           19   \n",
      "29       Vanilla Latte (Or Other Flavoured Latte)       130           18   \n",
      "..                                            ...       ...          ...   \n",
      "212             Java Chip (Without Whipped Cream)       340           67   \n",
      "213             Java Chip (Without Whipped Cream)       310           65   \n",
      "214             Java Chip (Without Whipped Cream)       420           90   \n",
      "215             Java Chip (Without Whipped Cream)       460           90   \n",
      "216             Java Chip (Without Whipped Cream)       430           88   \n",
      "217                                        Coffee        90           20   \n",
      "218                                        Coffee       120           26   \n",
      "219                                        Coffee       160           34   \n",
      "220                                         Mocha       110           24   \n",
      "221                                         Mocha       150           33   \n",
      "222                                         Mocha       210           46   \n",
      "223                                       Caramel       100           23   \n",
      "224                                       Caramel       150           33   \n",
      "225                                       Caramel       200           44   \n",
      "226                                     Java Chip       150           30   \n",
      "227                                     Java Chip       220           43   \n",
      "228                                     Java Chip       290           58   \n",
      "229  Strawberries & Crème (Without Whipped Cream)       170           39   \n",
      "230  Strawberries & Crème (Without Whipped Cream)       190           38   \n",
      "231  Strawberries & Crème (Without Whipped Cream)       170           37   \n",
      "232  Strawberries & Crème (Without Whipped Cream)       230           53   \n",
      "233  Strawberries & Crème (Without Whipped Cream)       260           53   \n",
      "234  Strawberries & Crème (Without Whipped Cream)       240           51   \n",
      "235  Strawberries & Crème (Without Whipped Cream)       310           70   \n",
      "236  Strawberries & Crème (Without Whipped Cream)       350           70   \n",
      "237  Strawberries & Crème (Without Whipped Cream)       320           67   \n",
      "238          Vanilla Bean (Without Whipped Cream)       170           39   \n",
      "239          Vanilla Bean (Without Whipped Cream)       200           39   \n",
      "240          Vanilla Bean (Without Whipped Cream)       180           37   \n",
      "241          Vanilla Bean (Without Whipped Cream)       240           56   \n",
      "\n",
      "     Carbohydrates   Sugars   Protein  Caffeine  \n",
      "0                5        0       0.3       175  \n",
      "1               10        0       0.5       260  \n",
      "2               10        0       1.0       330  \n",
      "3               10        0       1.0       410  \n",
      "4               75        9       6.0        75  \n",
      "5               85        9       6.0        75  \n",
      "6               65        4       5.0        75  \n",
      "7              120       14      10.0        75  \n",
      "8              135       14      10.0        75  \n",
      "9              105        6       8.0        75  \n",
      "10             150       18      13.0       150  \n",
      "11             170       17      12.0       150  \n",
      "12             130        8      10.0       150  \n",
      "13             190       23      16.0       150  \n",
      "14             220       22      16.0       150  \n",
      "15             170       11      13.0       150  \n",
      "16              60       17       7.0        85  \n",
      "17              70       17       6.0        85  \n",
      "18              55       13       6.0        85  \n",
      "19             100       27      10.0        95  \n",
      "20             115       26      10.0        95  \n",
      "21              85       20       9.0        95  \n",
      "22             125       34      13.0       175  \n",
      "23             140       34      13.0       175  \n",
      "24             105       26      11.0       175  \n",
      "25             160       44      17.0       180  \n",
      "26             180       43      17.0       180  \n",
      "27             140       33      14.0       180  \n",
      "28              70       18       6.0        75  \n",
      "29              80       17       6.0        75  \n",
      "..             ...      ...       ...       ...  \n",
      "212            250       62       5.0       110  \n",
      "213            240       60       4.0       110  \n",
      "214            340       84       7.0       145  \n",
      "215            340       84       7.0       145  \n",
      "216            330       80       6.0       145  \n",
      "217            160       19       3.0        70  \n",
      "218            210       26       3.0        95  \n",
      "219            270       33       5.0       120  \n",
      "220            150       23       3.0        70  \n",
      "221            200       30       4.0        95  \n",
      "222            280       42       6.0       130  \n",
      "223            140       23       3.0        65  \n",
      "224            200       32       3.0        90  \n",
      "225            270       43       5.0       120  \n",
      "226            170       27       4.0        70  \n",
      "227            240       39       5.0       105  \n",
      "228            320       52       7.0       165  \n",
      "229            140       38       3.0         0  \n",
      "230            140       37       3.0         0  \n",
      "231            135       35       3.0         0  \n",
      "232            190       52       4.0         0  \n",
      "233            190       52       4.0         0  \n",
      "234            180       49       3.0         0  \n",
      "235            260       69       6.0         0  \n",
      "236            260       68       6.0         0  \n",
      "237            250       64       5.0         0  \n",
      "238            160       38       4.0         0  \n",
      "239            160       38       3.0         0  \n",
      "240            160       35       3.0         0  \n",
      "241            230       55       5.0       170  \n",
      "\n",
      "[242 rows x 7 columns]]\n"
     ]
    }
   ],
   "source": [
    "newData = joblib.load('drinks_pycham.pkl')\n",
    "print(newData)"
   ]
  },
  {
   "cell_type": "code",
   "execution_count": null,
   "metadata": {
    "collapsed": true
   },
   "outputs": [],
   "source": []
  }
 ],
 "metadata": {
  "kernelspec": {
   "display_name": "Python 3",
   "language": "python",
   "name": "python3"
  },
  "language_info": {
   "codemirror_mode": {
    "name": "ipython",
    "version": 3
   },
   "file_extension": ".py",
   "mimetype": "text/x-python",
   "name": "python",
   "nbconvert_exporter": "python",
   "pygments_lexer": "ipython3",
   "version": "3.6.3"
  }
 },
 "nbformat": 4,
 "nbformat_minor": 2
}
